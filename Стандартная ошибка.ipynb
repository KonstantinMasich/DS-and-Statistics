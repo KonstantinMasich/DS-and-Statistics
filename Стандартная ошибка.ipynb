{
 "cells": [
  {
   "cell_type": "markdown",
   "metadata": {},
   "source": [
    "# Стандартная ошибка\n",
    "\n",
    "Стандартная ошибка статистики (standard error of statistic), обычно используемой в качестве эстиматора для какого-либо параметра - это стандартное отклонение выборочного распределения этой статистики. Если в качестве статистики выступает среднее значение (mean), то речь идёт о стандартной ошибке среднего - standard error of the mean или S.E.M.\n",
    "\n",
    "Схема проста. Выбираем интересующую нас статистику. Берём генеральную совокупность, и начинаем раз за разом вытягивать из неё выборки размера $n$; на каждой выборке замеряем значения выбранной нами статистики. Поскольку мы повторяем этот процесс многократно, у нас получается некое распределение данной статистики. Соответственно, стандартное отклонение полученного распределения - это и есть стандартная ошибка.\n",
    "\n",
    "**Интуиция:** стандартная ошибка - это то, насколько в среднем значения интересующей нас статистики будут различаться от выборки к выборке. Сильно ли скачут туда-сюда значения этой статистики на разных выборках, или нет? Насколько мы уверены в том, что статистика на выборке отражает реальное значение параметра на совокупности?\n",
    "\n",
    "**Зачем она нужна:** \n",
    "* Для измерения степени нашей \"неуверенности\" в эстимации интересующего нас параметра на основе имеющейся выборочной статистики; чем больше стандартная ошибка - тем меньше мы уверены в точности эстимации.\n",
    "* Для построения доверительных интервалов, например 95%-интервалов, в которые скорее всего будет попадать оценка интересующего нас параметра популяции $p$, вычисленная на основе имеющейся у нас статистики.\n",
    "\n",
    "Ну то есть вот у нас есть только одна выборка и мы наблюдаем на ней некоторое значение интересующей нас статистики, например - мы наблюдаем определённое значение выборочного среднего $\\bar{x}$. Мы выбираем его в качестве эстиматора для параметра \"совокупное среднее $\\mu$\", и предполагаем, что $\\bar{x}=\\mu$, ну а собственно альтернативных предположений у нас и нет, откуда их взять-то. Теперь нас интересует, насколько высока (или низка) склонность нашего эстиматора к прыжкам туда-сюда в зависимости от имеющейся конкретной выборки. Это можно прикинуть как:\n",
    "$$\\sigma_{\\bar{x}}\\approx{\\frac{s}{\\sqrt{n}}}$$\n",
    "Теперь - собственно, пример применения стандартной ошибки. Здесь она нам послужит для конструирования доверительного интервала для неизвестного значения параметра \"совокупное среднее $\\mu$\" на основании выборочного среднего $\\bar{x}$. Если выборочное распределение приближается к Нормальному, то мы смело можем пользоваться квантилями и интервалами Нормального распределения:\n",
    "\n",
    "$$Upper\\space95\\%\\space limit = \\bar{x} + (S.E. \\cdot 1.96)$$\n",
    "$$Lower\\space95\\%\\space limit = \\bar{x} - (S.E. \\cdot 1.96)$$\n",
    "\n",
    "Проверим это экспериментально."
   ]
  },
  {
   "cell_type": "code",
   "execution_count": 387,
   "metadata": {},
   "outputs": [
    {
     "data": {
      "image/png": "[encoded data removed]",
      "text/plain": [
       "<matplotlib.figure.Figure at 0x7fbfae6aa5f8>"
      ]
     },
     "metadata": {},
     "output_type": "display_data"
    },
    {
     "name": "stdout",
     "output_type": "stream",
     "text": [
      "Совокупное среднее: 5.00598 стремится к 5\n"
     ]
    }
   ],
   "source": [
    "import numpy as np\n",
    "import seaborn as sns\n",
    "from matplotlib import pyplot as plt\n",
    "\n",
    "FONT_BOLD, FONT_END = '\\033[1m', '\\033[0m'\n",
    "\n",
    "LAMBDA = 5\n",
    "POPULATION_SIZE = 100000\n",
    "\n",
    "# Сгенерируем популяцию из распределения Пуассона:\n",
    "population = np.random.poisson(LAMBDA, POPULATION_SIZE)\n",
    "sns.distplot(population, kde=False, norm_hist=True)\n",
    "plt.title('Генеральная совокупность')\n",
    "plt.show()\n",
    "print('Совокупное среднее:', np.mean(population), 'стремится к', LAMBDA)"
   ]
  },
  {
   "cell_type": "code",
   "execution_count": 388,
   "metadata": {},
   "outputs": [
    {
     "name": "stdout",
     "output_type": "stream",
     "text": [
      "Реальное среднее популяции: 5.00598\n",
      "\u001b[1mРеальная стандарная ошибка среднего:  0.0710008749214 \u001b[0m (рассчитано используя совокупное среднее)\n",
      "Полученная экспериментально стандартная ошибка среднего: 0.0737036464498\n",
      "\t--- 95% доверительный интервал в этом случае: [ 4.939 ± 0.144459147042 ]\n",
      "Рассчитанная теоретически стандартная ошибка среднего:   0.0703795353778\n",
      "\t--- 95% доверительный интервал в этом случае: [ 4.939 ± 0.137943889341 ]\n"
     ]
    },
    {
     "data": {
      "image/png": "[encoded data removed]",
      "text/plain": [
       "<matplotlib.figure.Figure at 0x7fbfad8bb668>"
      ]
     },
     "metadata": {},
     "output_type": "display_data"
    },
    {
     "name": "stdout",
     "output_type": "stream",
     "text": [
      "Среднее значение этого распределения: 5.00965\n"
     ]
    }
   ],
   "source": [
    "NUM_EXPERIMENTS = 100\n",
    "SAMPLE_SIZE     = 1000\n",
    "\n",
    "# Определим эксперимент: вытягивание выборки размера sample_size и замер среднего на этой выборке:\n",
    "def experiment(pop, sample_size):\n",
    "    sample = np.random.choice(pop, sample_size, replace=False)\n",
    "    return np.mean(sample)\n",
    "\n",
    "# Проведём эксперимент NUM_EXPERIMENTS раз, а затем отобразим получившееся распределение средних значений:\n",
    "means = [experiment(population, SAMPLE_SIZE) for i in range(NUM_EXPERIMENTS)]\n",
    "single_sample = np.random.choice(population, SAMPLE_SIZE, replace=False)\n",
    "print('Реальное среднее популяции:', np.mean(population))\n",
    "print(FONT_BOLD + 'Реальная стандарная ошибка среднего: ', np.std(population)/np.sqrt(SAMPLE_SIZE), FONT_END,\n",
    "      '(рассчитано используя совокупное среднее)')\n",
    "print('Полученная экспериментально стандартная ошибка среднего:', np.std(means))\n",
    "print('\\t--- 95% доверительный интервал в этом случае: [',\n",
    "      np.mean(single_sample), '±', (1.96*np.std(means)), ']')\n",
    "print('Рассчитанная теоретически стандартная ошибка среднего:  ',\n",
    "      np.std(single_sample)/np.sqrt(SAMPLE_SIZE))\n",
    "print('\\t--- 95% доверительный интервал в этом случае: [',\n",
    "      np.mean(single_sample), '±', (1.96*np.std(single_sample)/np.sqrt(SAMPLE_SIZE)), ']')\n",
    "plt.clf()\n",
    "plt.title('Выборочное распределение (sampling distribution) статистики \"среднее по выборке\"')\n",
    "sns.distplot(means, kde=True, norm_hist=True)\n",
    "plt.show()\n",
    "print('Среднее значение этого распределения:', np.mean(means))"
   ]
  },
  {
   "cell_type": "markdown",
   "metadata": {},
   "source": [
    "Согласно **теореме центрального предела**, с увеличением размера выборки, выборочное распределение среднего ассимптотически Нормально (то есть стремится к Нормальному)."
   ]
  },
  {
   "cell_type": "markdown",
   "metadata": {},
   "source": [
    "<br><br><br>\n",
    "## Проведём эксперимент на линейной регресии\n",
    "\n",
    "1. Пусть есть генеральная совокупность $A$. Подгоним к ней линейную регрессию; полученная линия регрессии составит \"истинную линию регресии\", тогда как её коэффициенты $\\beta_i$ - \"истинные значения коэффициентов\".\n",
    "2. Возьмём из неё выборку размера $n$, в которой все наблюдения вытянуты независимо друг от друга. Подгоним линейную регресию к этой выборке и замерим полученные коэффициенты $\\hat{\\beta_i}$  - \"выборочные значения коэффициентов\".\n",
    "3. Нас интересует, как далеко лежат истинные значения коэффициентов от полученных экспериментально выборочных значений? Вычислим стандарную ошибку для коэффициентов регрессии $\\hat{SE}(\\hat{\\beta_i})$ и 95% доверительные интервалы, а затем проверим, попадают ли \"истинные значенеия коэффициентов\" в эти интервалы.\n",
    "\n",
    "### 1:"
   ]
  },
  {
   "cell_type": "code",
   "execution_count": 415,
   "metadata": {},
   "outputs": [
    {
     "name": "stdout",
     "output_type": "stream",
     "text": [
      "Значения коэффициентов underlying-регрессионной линии (из make_regression):\n",
      "\tβ0 = 45 \n",
      "\tβ1 = 54.26787295132769\n",
      "\"Истинные\" значения коэффициентов регрессии:\n",
      "\tβ0 = 44.7371969 \n",
      "\tβ1 = 56.5970853836\n"
     ]
    },
    {
     "data": {
      "image/png": "[encoded data removed]",
      "text/plain": [
       "<matplotlib.figure.Figure at 0x7fbfb8d03400>"
      ]
     },
     "metadata": {},
     "output_type": "display_data"
    },
    {
     "name": "stdout",
     "output_type": "stream",
     "text": [
      "MSE \"истинной\" регрессии: 6226.33934023\n",
      "MSE underlying-регрессии: 6232.27880406\n"
     ]
    }
   ],
   "source": [
    "from sklearn.datasets import make_regression\n",
    "from sklearn.linear_model import LinearRegression\n",
    "from sklearn.metrics import mean_squared_error\n",
    "\n",
    "BIAS  = 45\n",
    "NOISE = 80\n",
    "POPULATION_SIZE = 1000\n",
    "\n",
    "# Сгенерируем более-менее гомоскедастичные данные, чтобы оценка стандартной ошибки не была смещена:\n",
    "X, y, real_coef = make_regression(n_samples=POPULATION_SIZE, n_features=1, coef=True, noise=NOISE, bias=BIAS)\n",
    "\n",
    "# Подгоним к данным \"истинную\" линейную регрессию:\n",
    "lr = LinearRegression()\n",
    "lr.fit(X, y)\n",
    "\n",
    "# Отобразим данные и \"истинную линию регрессии\":\n",
    "print('Значения коэффициентов underlying-регрессионной линии (из make_regression):')\n",
    "print('\\tβ0 =', BIAS, '\\n\\tβ1 =', real_coef.item(0))\n",
    "print('\"Истинные\" значения коэффициентов регрессии:\\n\\tβ0 =', lr.intercept_, '\\n\\tβ1 =', lr.coef_[0])\n",
    "plt.clf()\n",
    "xx = np.linspace(min(X), max(X), 2)\n",
    "plt.plot(xx, xx*lr.coef_[0] + lr.intercept_, c='r')\n",
    "# ---\n",
    "plt.scatter(X, y, marker='.', c='c')\n",
    "plt.title('Сгенерированные данные и \"истинная линия регрессии\"')\n",
    "plt.xlabel('x')\n",
    "plt.ylabel('y')\n",
    "plt.grid(color='b', linestyle='-', linewidth=0.2)\n",
    "plt.show()\n",
    "\n",
    "print('MSE \"истинной\" регрессии:', mean_squared_error(y, lr.predict(X)))\n",
    "predictions = X*real_coef.item(0) + BIAS\n",
    "print('MSE underlying-регрессии:', mean_squared_error(y, predictions))"
   ]
  },
  {
   "cell_type": "markdown",
   "metadata": {},
   "source": [
    "#### 2:\n",
    "\n",
    "Возьмём из популяции выборку размера $n$, в которой все наблюдения вытянуты независимо друг от друга. Подгоним линейную регресию к этой выборке и замерим полученные коэффициенты $\\hat{\\beta_i}$ - \"выборочные значения коэффициентов\"."
   ]
  },
  {
   "cell_type": "code",
   "execution_count": 416,
   "metadata": {},
   "outputs": [
    {
     "name": "stdout",
     "output_type": "stream",
     "text": [
      "Прогнозируемые значения коэффициентов регрессии:\n",
      "\tβ0 = 47.0009858189 \n",
      "\tβ1 = 57.1473940155\n"
     ]
    }
   ],
   "source": [
    "from sklearn.model_selection import train_test_split\n",
    "\n",
    "SAMPLE_SIZE = 400\n",
    "\n",
    "# Сформируем выборку:\n",
    "X_sample, _, y_sample, _ = train_test_split(X, y, test_size = SAMPLE_SIZE)\n",
    "\n",
    "# Произведём подгонку:\n",
    "lr.fit(X_sample, y_sample)\n",
    "\n",
    "# Рассмотрим эстимации реальных коэффициентов:\n",
    "print('Прогнозируемые значения коэффициентов регрессии:\\n\\tβ0 =', lr.intercept_, '\\n\\tβ1 =', lr.coef_[0])"
   ]
  },
  {
   "cell_type": "markdown",
   "metadata": {},
   "source": [
    "Построим 95% доверительный интервал для β1 и β0 - с помощью statsmodels и по формулам:\n",
    "\n",
    "$$\\hat{SE}(\\hat{\\beta_0})^2 = Var(\\epsilon) \\bigg[ \\frac{1}{n} + \\frac{\\bar{x}^2}{\\sum_{i=1}^n (x_i - \\bar{x})^2} \\bigg] , \\space\\space\\space\n",
    "\\hat{SE}(\\hat{\\beta_1})^2 = \\frac{Var(\\epsilon)}{\\sum_{i=1}^n (x_i - \\bar{x})^2}$$"
   ]
  },
  {
   "cell_type": "code",
   "execution_count": 417,
   "metadata": {},
   "outputs": [
    {
     "name": "stdout",
     "output_type": "stream",
     "text": [
      "Интервалы по форулам:\n",
      " [[ 39.2458355   54.75613613]] \n",
      " [[ 51.03098057  63.26380746]]\n",
      "Стандартные ошибки:\n",
      "\tSE(β0) = 3.87757515756 \n",
      "\tSE(β1) = 3.05820672281\n",
      "Прогнозируемые значения коэффициентов регрессии:\n",
      "\tβ0 = 47.0009858189 \n",
      "\tβ1 = 57.1473940155 \n",
      "\n",
      "Statsmodels-интервал:\n",
      " [[ 40.77268569  53.22928595]\n",
      " [ 51.13122756  63.16356047]]\n"
     ]
    },
    {
     "data": {
      "text/html": [
       "<table class=\"simpletable\">\n",
       "<caption>OLS Regression Results</caption>\n",
       "<tr>\n",
       "  <th>Dep. Variable:</th>            <td>y</td>        <th>  R-squared:         </th> <td>   0.368</td>\n",
       "</tr>\n",
       "<tr>\n",
       "  <th>Model:</th>                   <td>OLS</td>       <th>  Adj. R-squared:    </th> <td>   0.367</td>\n",
       "</tr>\n",
       "<tr>\n",
       "  <th>Method:</th>             <td>Least Squares</td>  <th>  F-statistic:       </th> <td>   348.0</td>\n",
       "</tr>\n",
       "<tr>\n",
       "  <th>Date:</th>             <td>Tue, 07 Aug 2018</td> <th>  Prob (F-statistic):</th> <td>1.47e-61</td>\n",
       "</tr>\n",
       "<tr>\n",
       "  <th>Time:</th>                 <td>06:21:29</td>     <th>  Log-Likelihood:    </th> <td> -3461.9</td>\n",
       "</tr>\n",
       "<tr>\n",
       "  <th>No. Observations:</th>      <td>   600</td>      <th>  AIC:               </th> <td>   6928.</td>\n",
       "</tr>\n",
       "<tr>\n",
       "  <th>Df Residuals:</th>          <td>   598</td>      <th>  BIC:               </th> <td>   6937.</td>\n",
       "</tr>\n",
       "<tr>\n",
       "  <th>Df Model:</th>              <td>     1</td>      <th>                     </th>     <td> </td>   \n",
       "</tr>\n",
       "<tr>\n",
       "  <th>Covariance Type:</th>      <td>nonrobust</td>    <th>                     </th>     <td> </td>   \n",
       "</tr>\n",
       "</table>\n",
       "<table class=\"simpletable\">\n",
       "<tr>\n",
       "    <td></td>       <th>coef</th>     <th>std err</th>      <th>t</th>      <th>P>|t|</th>  <th>[0.025</th>    <th>0.975]</th>  \n",
       "</tr>\n",
       "<tr>\n",
       "  <th>const</th> <td>   47.0010</td> <td>    3.171</td> <td>   14.821</td> <td> 0.000</td> <td>   40.773</td> <td>   53.229</td>\n",
       "</tr>\n",
       "<tr>\n",
       "  <th>x1</th>    <td>   57.1474</td> <td>    3.063</td> <td>   18.655</td> <td> 0.000</td> <td>   51.131</td> <td>   63.164</td>\n",
       "</tr>\n",
       "</table>\n",
       "<table class=\"simpletable\">\n",
       "<tr>\n",
       "  <th>Omnibus:</th>       <td> 0.628</td> <th>  Durbin-Watson:     </th> <td>   2.026</td>\n",
       "</tr>\n",
       "<tr>\n",
       "  <th>Prob(Omnibus):</th> <td> 0.730</td> <th>  Jarque-Bera (JB):  </th> <td>   0.653</td>\n",
       "</tr>\n",
       "<tr>\n",
       "  <th>Skew:</th>          <td>-0.078</td> <th>  Prob(JB):          </th> <td>   0.721</td>\n",
       "</tr>\n",
       "<tr>\n",
       "  <th>Kurtosis:</th>      <td> 2.959</td> <th>  Cond. No.          </th> <td>    1.04</td>\n",
       "</tr>\n",
       "</table>"
      ],
      "text/plain": [
       "<class 'statsmodels.iolib.summary.Summary'>\n",
       "\"\"\"\n",
       "                            OLS Regression Results                            \n",
       "==============================================================================\n",
       "Dep. Variable:                      y   R-squared:                       0.368\n",
       "Model:                            OLS   Adj. R-squared:                  0.367\n",
       "Method:                 Least Squares   F-statistic:                     348.0\n",
       "Date:                Tue, 07 Aug 2018   Prob (F-statistic):           1.47e-61\n",
       "Time:                        06:21:29   Log-Likelihood:                -3461.9\n",
       "No. Observations:                 600   AIC:                             6928.\n",
       "Df Residuals:                     598   BIC:                             6937.\n",
       "Df Model:                           1                                         \n",
       "Covariance Type:            nonrobust                                         \n",
       "==============================================================================\n",
       "                 coef    std err          t      P>|t|      [0.025      0.975]\n",
       "------------------------------------------------------------------------------\n",
       "const         47.0010      3.171     14.821      0.000      40.773      53.229\n",
       "x1            57.1474      3.063     18.655      0.000      51.131      63.164\n",
       "==============================================================================\n",
       "Omnibus:                        0.628   Durbin-Watson:                   2.026\n",
       "Prob(Omnibus):                  0.730   Jarque-Bera (JB):                0.653\n",
       "Skew:                          -0.078   Prob(JB):                        0.721\n",
       "Kurtosis:                       2.959   Cond. No.                         1.04\n",
       "==============================================================================\n",
       "\n",
       "Warnings:\n",
       "[1] Standard Errors assume that the covariance matrix of the errors is correctly specified.\n",
       "\"\"\""
      ]
     },
     "execution_count": 417,
     "metadata": {},
     "output_type": "execute_result"
    }
   ],
   "source": [
    "# Рассчёты по форулам::\n",
    "beta0     = lr.intercept_\n",
    "beta1     = lr.coef_[0]\n",
    "residuals = y_sample - lr.predict(X_sample)\n",
    "se_beta0  = np.var(residuals) * np.array(1/SAMPLE_SIZE + \n",
    "                                         ((np.mean(X_sample))**2)/np.sum(np.square(X_sample - np.mean(X_sample))))\n",
    "se_beta0  = np.sqrt(se_beta0)\n",
    "se_beta1  = np.var(residuals) / (np.sum(np.square(X_sample - np.mean(X_sample))))\n",
    "se_beta1  = np.sqrt(se_beta1)\n",
    "interval0 = np.array([[beta0 - 2*se_beta0, beta0 + 2*se_beta0]])\n",
    "interval1 = np.array([[beta1 - 2*se_beta1, beta1 + 2*se_beta1]])\n",
    "print('Интервалы по форулам:\\n', interval0, '\\n', interval1)\n",
    "print('Стандартные ошибки:\\n\\tSE(β0) =', se_beta0, '\\n\\tSE(β1) =', se_beta1)\n",
    "print('Прогнозируемые значения коэффициентов регрессии:\\n\\tβ0 =', beta0, '\\n\\tβ1 =', beta1, '\\n')\n",
    "\n",
    "# С помощью statsmodels:\n",
    "import statsmodels.api as sm\n",
    "statsmodels_result = sm.OLS(y_sample, sm.add_constant(X_sample)).fit()\n",
    "print('Statsmodels-интервал:\\n', statsmodels_result.conf_int(0.05))  # 95% confidence interval\n",
    "statsmodels_result.summary()"
   ]
  },
  {
   "cell_type": "markdown",
   "metadata": {},
   "source": [
    "Резидуалы, возвращаемые обеими моделями, практически одинаковы:"
   ]
  },
  {
   "cell_type": "code",
   "execution_count": 409,
   "metadata": {
    "scrolled": true
   },
   "outputs": [
    {
     "name": "stdout",
     "output_type": "stream",
     "text": [
      "[ -0.54703545  -6.29397665   8.88947295  -0.52992077  13.3937157 ]\n",
      "[ -0.54703545  -6.29397665   8.88947295  -0.52992077  13.3937157 ]\n"
     ]
    }
   ],
   "source": [
    "print(statsmodels_result.resid[:5])\n",
    "print(residuals[:5])"
   ]
  },
  {
   "cell_type": "markdown",
   "metadata": {},
   "source": [
    "<br><br><br>\n",
    "## Распределение коэффициентов линейной регрессии\n",
    "\n",
    "Вообще, рассмотрим какое распределение имеют коэффициенты линейной регрессии:"
   ]
  },
  {
   "cell_type": "code",
   "execution_count": 308,
   "metadata": {},
   "outputs": [
    {
     "data": {
      "image/png": "[encoded data removed]",
      "text/plain": [
       "<matplotlib.figure.Figure at 0x7fbfb48c3f28>"
      ]
     },
     "metadata": {},
     "output_type": "display_data"
    }
   ],
   "source": [
    "def experiment_coef_distribution(sample_size, num_experiments):\n",
    "    betas_0, betas_1 = [], []\n",
    "    for _ in range(num_experiments):\n",
    "        X_sample, _, y_sample, _ = train_test_split(X, y, test_size = sample_size)\n",
    "        reg = LinearRegression()\n",
    "        reg.fit(X_sample, y_sample)\n",
    "        betas_0.append(reg.intercept_)\n",
    "        betas_1.append(reg.coef_[0])\n",
    "    plt.clf()\n",
    "    plt.subplot(1, 2, 1)\n",
    "    sns.distplot(betas_0)\n",
    "    plt.title('β0 distribution')\n",
    "    plt.subplot(1, 2, 2)\n",
    "    sns.distplot(betas_1)\n",
    "    plt.title('β1 distribution')   \n",
    "    plt.show()\n",
    "\n",
    "experiment_coef_distribution(SAMPLE_SIZE, 1000)"
   ]
  },
  {
   "cell_type": "markdown",
   "metadata": {},
   "source": [
    "Возможно, это Student's t-distribution, так?"
   ]
  },
  {
   "cell_type": "code",
   "execution_count": null,
   "metadata": {
    "collapsed": true
   },
   "outputs": [],
   "source": []
  },
  {
   "cell_type": "code",
   "execution_count": null,
   "metadata": {
    "collapsed": true
   },
   "outputs": [],
   "source": []
  },
  {
   "cell_type": "code",
   "execution_count": null,
   "metadata": {
    "collapsed": true
   },
   "outputs": [],
   "source": []
  },
  {
   "cell_type": "code",
   "execution_count": null,
   "metadata": {
    "collapsed": true
   },
   "outputs": [],
   "source": []
  },
  {
   "cell_type": "code",
   "execution_count": null,
   "metadata": {
    "collapsed": true
   },
   "outputs": [],
   "source": []
  }
 ],
 "metadata": {
  "kernelspec": {
   "display_name": "Python 3",
   "language": "python",
   "name": "python3"
  },
  "language_info": {
   "codemirror_mode": {
    "name": "ipython",
    "version": 3
   },
   "file_extension": ".py",
   "mimetype": "text/x-python",
   "name": "python",
   "nbconvert_exporter": "python",
   "pygments_lexer": "ipython3",
   "version": "3.6.3"
  }
 },
 "nbformat": 4,
 "nbformat_minor": 2
}
