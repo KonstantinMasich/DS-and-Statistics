{
 "cells": [
  {
   "cell_type": "markdown",
   "metadata": {},
   "source": [
    "# Гипергеометрическое распределение\n",
    "\n",
    "**Обозначение:** HG($D, N, n$) <br>\n",
    "**Параметры:**\n",
    "- $D\\in{0,1,2,\\dots}$ - размер фракции \"успехов\" в популяции\n",
    "- $n\\in{0,1,2,\\dots}$ - требуемый размер выборки\n",
    "- $N\\in{0,1,2\\dots}$ - размер генеральной совокупности\n",
    "\n",
    "**Носитель:** $k\\in{0,1,2,\\dots}$ <br>\n",
    "**Функция вероятности:** $$\\Pr(X=k) = \\frac{C^D_k \\cdot C^{N-D}_{n-k}}{C^N_n}$$ <br>\n",
    "**Интуиция:** гипергеометрическое распределение описывает вероятность выпадения $k$ успехов в серии из $n$ попыток **без замены**, при этом выборка размером $n$ берётся из популяции **конечного размера** $N$. <br>\n",
    "В противоположность этому, биномиальное распределение описывает вероятность выпадения $k$ успехов с заменой. Другими словами, биномиальное распределение работает со словом длины n, составленным из алфавита {0, 1}, и возвращает вероятность нахождения $k$ букв \"1\" в этом слове. Гипергеометрическое распределение возвращает вероятность вытаскивания 4 красных шариков в серии из 5 попыток, при том что в корзинке лежат 6 красных и 14 жёлтых шариков. То есть в биномиальном распределениии при составлении слова буквы вытаскиваются из \"бездонного\" алфавита {0, 1}, а в гипергеометрическом - из корзинки с конечным числом шариков, вытаскивание каждого из которых несёт информацию о вероятностях выпадения других шариков."
   ]
  },
  {
   "cell_type": "code",
   "execution_count": 64,
   "metadata": {},
   "outputs": [
    {
     "data": {
      "image/png": "[encoded data removed]",
      "text/plain": [
       "<matplotlib.figure.Figure at 0x7f1402bb1978>"
      ]
     },
     "metadata": {},
     "output_type": "display_data"
    }
   ],
   "source": [
    "import numpy as np\n",
    "from matplotlib import pyplot as plt\n",
    "import seaborn as sns\n",
    "\n",
    "D = 60  # в корзинке лежит 60 красных шариков (\"успехов\")\n",
    "N = 200 # всего в корзинке лежит 200 шариков\n",
    "n = 50  # вытаскиваем из корзинки 50 шариков без замены\n",
    "NUM_EXPERIMENTS = 10000\n",
    "\n",
    "# Сформулируем единичный опыт \"вытаскивание одного шарика из корзинки размером N с D успехами\":\n",
    "def trial(D, N):\n",
    "    return True if np.random.rand() < D/N else False\n",
    "\n",
    "# Начнём проводить серию из n единичных опытов, причём после каждого единичного опыта будем\n",
    "# корректировать количество шариков, оставшихся в корзинке: N должен уменьшаться на 1,\n",
    "# и D тоже уменьшаться на 1 если выпал успех, и оставаться преждним, если выпала неудача.\n",
    "def series_of_n_trials(D_size, N_size, n):\n",
    "    \"\"\"Возвращает количество выпавших успехов в серии из n единичных опытов\"\"\"\n",
    "    successes = 0\n",
    "    for _ in range(n):\n",
    "        if trial(D_size, N_size):\n",
    "            successes += 1\n",
    "            D_size -= 1\n",
    "            N_size -= 1\n",
    "        else:\n",
    "            N_size -= 1\n",
    "    return successes\n",
    "\n",
    "# Чтобы получить распределение, будем проводить серии из n экспериментов в целом NUM_EXPERIMENTS раз,\n",
    "# а затем рассмотрим получившееся распределение количества успехов на графике.\n",
    "outcomes_list = [series_of_n_trials(D, N, n) for i in range(NUM_EXPERIMENTS)]\n",
    "\n",
    "# Отобразим получившееся распределение на графике:    \n",
    "plt.clf()\n",
    "sns.distplot(outcomes_list, kde = False, bins = np.unique(outcomes_list).shape[0])\n",
    "plt.show()"
   ]
  },
  {
   "cell_type": "markdown",
   "metadata": {},
   "source": [
    "Проверим конкретно серию из $n=5$ единичных экспериментов: вытаскивание 1 шарика из корзинки в 20 шариков, где 6 шариков - \"успех\", и 14 шариков - \"неудача\". Нас интересует вероятность выпадения 4 успехов в серии из 5 опытов, теоретическое значение равно:\n",
    "\n",
    "$$\\Pr(X=k) = \\frac{C^6_4 \\cdot C^{14}_{1}}{C^{20}_5} = 0.01354$$"
   ]
  },
  {
   "cell_type": "code",
   "execution_count": 83,
   "metadata": {},
   "outputs": [
    {
     "name": "stdout",
     "output_type": "stream",
     "text": [
      "Экспериментальное значение: 0.01357\n",
      "Теоретическое значение:     0.01354\n"
     ]
    }
   ],
   "source": [
    "NUM_EXPERIMENTS = 1000000\n",
    "\n",
    "successes = 0\n",
    "for _ in range(NUM_EXPERIMENTS):\n",
    "    if series_of_n_trials(6, 20, 5) == 4:\n",
    "        successes += 1\n",
    "\n",
    "print('Экспериментальное значение:', successes / NUM_EXPERIMENTS)\n",
    "print('Теоретическое значение:     0.01354')"
   ]
  }
 ],
 "metadata": {
  "kernelspec": {
   "display_name": "Python 3",
   "language": "python",
   "name": "python3"
  },
  "language_info": {
   "codemirror_mode": {
    "name": "ipython",
    "version": 3
   },
   "file_extension": ".py",
   "mimetype": "text/x-python",
   "name": "python",
   "nbconvert_exporter": "python",
   "pygments_lexer": "ipython3",
   "version": "3.6.3"
  }
 },
 "nbformat": 4,
 "nbformat_minor": 2
}
