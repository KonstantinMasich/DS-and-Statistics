{
 "cells": [
  {
   "cell_type": "markdown",
   "metadata": {},
   "source": [
    "# Распределение Пуассона\n",
    "\n",
    "Распределение Пуассона - это предел Биномиального распределения при бесконечном количестве опытов и вероятности успеха стремящейся к нулю, то есть при:\n",
    "1. $n\\rightarrow\\infty$\n",
    "2. $p\\rightarrow\\infty$."
   ]
  },
  {
   "cell_type": "code",
   "execution_count": 803,
   "metadata": {
    "scrolled": true
   },
   "outputs": [
    {
     "data": {
      "image/png": "[encoded data removed]",
      "text/plain": [
       "<matplotlib.figure.Figure at 0x7f71cf2c1b00>"
      ]
     },
     "metadata": {},
     "output_type": "display_data"
    },
    {
     "name": "stdout",
     "output_type": "stream",
     "text": [
      "INFORMATION:\n",
      "\t\tRatio = 1.00958502594\n",
      "\n",
      "\tDistribution mean = 9.9857\n",
      "\tDistribution variance = 9.89089551\n"
     ]
    }
   ],
   "source": [
    "import numpy as np\n",
    "from random import randint, uniform\n",
    "from scipy import stats\n",
    "from matplotlib import pyplot as plt\n",
    "import seaborn as sns\n",
    "\n",
    "P = 0.001         # Вероятность успеха.  Меняем так, чтобы она стремилась к нулю.\n",
    "N = 10000         # Размер серии опытов. Меняем так, чтобы он стремился к бесконечности.\n",
    "DIST_SIZE = 10000 # Размер выборки из биномиального распределения. Менять не нужно\n",
    "\n",
    "# Сформируем Биномиальное распределение:\n",
    "dist = np.random.binomial(N, P, DIST_SIZE)\n",
    "plt.clf()\n",
    "sns.distplot(dist)\n",
    "plt.show()\n",
    "\n",
    "print('INFORMATION:')\n",
    "print('\\t\\tRatio =', np.mean(dist) / np.var(dist))\n",
    "print('\\n\\tDistribution mean =', np.mean(dist))\n",
    "print('\\tDistribution variance =', np.var(dist))\n",
    "\n",
    "\n",
    "\"\"\"\n",
    "\"ПОЛНОСТЬЮ РУЧНАЯ\" версия:\n",
    "\n",
    "# Для начала смоделируем одиночный эксперимент Бернулли - серию из n опытов, \n",
    "# в данном случае - бросков (не)честной монетки:\n",
    "def bernoulli_experiment(series_size, proba):\n",
    "    outcomes_list = [] # [0, 0, 1, 1, 1, 0]\n",
    "    for n in range(series_size):\n",
    "        outcomes_list.append(1 if uniform(0, 1) <= proba else 0)\n",
    "    return sum(outcomes_list)\n",
    "outcomes = bernoulli_experiment(N, P)\n",
    "\n",
    "# Теперь повторим опыт Бернулли некоторое количество раз, и посмотрим\n",
    "# на распределение СВ \"количество успехов в серии из n опытов\":\n",
    "outcomes_list = []\n",
    "for _ in range(NUM_EXPERIMENTS):\n",
    "    outcomes_list.append(bernoulli_experiment(N, P))\n",
    "    \n",
    "# Отобразим получившееся распределение на графике:\n",
    "plt.clf()\n",
    "sns.distplot(outcomes_list, kde = True, bins = np.unique(outcomes_list).shape[0])\n",
    "plt.show()\n",
    "\n",
    "print('INFORMATION:')\n",
    "print('\\t\\tRatio =', np.mean(outcomes_list) / np.var(outcomes_list))\n",
    "print('\\n\\tDistribution mean =', np.mean(outcomes_list))\n",
    "print('\\tDistribution variance =', np.var(outcomes_list))\n",
    "\"\"\"\n",
    "pass"
   ]
  },
  {
   "cell_type": "markdown",
   "metadata": {},
   "source": [
    "Как видим, с ростом $n$ и уменьшением $p$, разница между матожиданием и дисперсией становится всё ближе и ближе к нулевой."
   ]
  }
 ],
 "metadata": {
  "kernelspec": {
   "display_name": "Python 3",
   "language": "python",
   "name": "python3"
  },
  "language_info": {
   "codemirror_mode": {
    "name": "ipython",
    "version": 3
   },
   "file_extension": ".py",
   "mimetype": "text/x-python",
   "name": "python",
   "nbconvert_exporter": "python",
   "pygments_lexer": "ipython3",
   "version": "3.6.3"
  }
 },
 "nbformat": 4,
 "nbformat_minor": 2
}
