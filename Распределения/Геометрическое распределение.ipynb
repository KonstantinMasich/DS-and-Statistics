{
 "cells": [
  {
   "cell_type": "markdown",
   "metadata": {},
   "source": [
    "# Геометрическое распределение\n",
    "\n",
    "**Обозначение:** Geom($p$) <br>\n",
    "**Параметры:** $p$ - вероятность \"успеха\" в опыте Бернулли <br>\n",
    "**Функция вероятности:** $\\Pr(X=k) = (1-p)^{1-k}p$ или $\\Pr(X=k) = (1-p)^{k}p$<br>\n",
    "**Интуиция:** геометрическое распределение показывает вероятность того, что понадобится $k$ опытов Бернулли до выпадения первого успеха. В одном определении этого распределения порядковый номер первого выпавшего успеха включается в $k$, а в другом - нет, то есть в первом $k$ состоит из $k-1$ неудач и одного успеха, а во втором $k$ состоит из $k$ неудач, а следующий опыт будет успехом.\n",
    "\n",
    "**Важно:** поскольку в сердце геометрического распределения лежит опыт Бернулли, важно, чтобы опыты в серии происходили независимо друг от друга, то есть выпадение неудачи никак не влияло на вероятность выпадения успеха. То есть здесь успех и неудача должны вытягиваться с заменой, как буквы из алфавита {0, 1} при составлении слова длиной в k букв. Если мы имеем со случаем вытягивания без замены, то есть выпадение одного исхода меняет вероятность выпадения других исходов, то геометрическое распределение здесь не подходит! <br>\n",
    "Пример такой ситуации - вытягивание 5 шариков из корзинки с 6 красными и 14 жёлыми шариками. До эксперимента вероятности вытягивания первого шарика таковы: красный - $6/20$, жёлтый - $14/20$. Допустим, мы вытянули красный шарик. В корзинке осталось 19 шариков, и теперь вероятности поменялись: красный - $5/19\\neq{5/20}$, жёлтый $14/19\\neq{14/20}$, то есть оба значения вероятности поменялись. Выпадение красного шарика дало нам информацию о возможном выпадении других шариков. Здесь геометрическое распределение не подойдёт! Опыты проводятся не независимо, т.е. исход каждого опыта даёт нам информацию о вероятностях будущих опытов! <br>\n",
    "\n",
    "В экстремальном случае - у нас есть 1 красный и 4 жёлтых шарика, в этом случае выпадение красного шарика сразу же подбрасывает до единицы вероятность выпадения жёлтого шарика в любом количестве последующих опытов."
   ]
  },
  {
   "cell_type": "code",
   "execution_count": 3,
   "metadata": {},
   "outputs": [
    {
     "data": {
      "image/png": "[encoded data removed]",
      "text/plain": [
       "<matplotlib.figure.Figure at 0x7f2f957715f8>"
      ]
     },
     "metadata": {},
     "output_type": "display_data"
    }
   ],
   "source": [
    "import numpy as np\n",
    "from matplotlib import pyplot as plt\n",
    "import seaborn as sns\n",
    "\n",
    "P = 0.3\n",
    "NUM_EXPERIMENTS = 1000\n",
    "\n",
    "\n",
    "# Сформулируем единичный опыт Бернулли:\n",
    "def bernoulli_trial(proba):\n",
    "    # Вероятность указывать в [0, 1]\n",
    "    return True if np.random.rand() < proba else False\n",
    "\n",
    "# Начнём проводить серии из единичных опытов Бернулли до тех пор, пока не выпадет первый успех,\n",
    "# и записывать результаты в отдельный массив. После этого мы рассмотрим распределение этого\n",
    "# массива - оно и будет представлять собой Геометрическое распределение.\n",
    "outcomes_list = []\n",
    "for _ in range(NUM_EXPERIMENTS):\n",
    "    trials_counter = 0\n",
    "    first_success = False\n",
    "    while not first_success:\n",
    "        trials_counter += 1\n",
    "        first_success = bernoulli_trial(P)\n",
    "    outcomes_list.append(trials_counter)\n",
    "\n",
    "# Отобразим получившееся распределение на графике:    \n",
    "plt.clf()\n",
    "sns.distplot(outcomes_list, kde = True, bins = np.unique(outcomes_list).shape[0])\n",
    "plt.show()"
   ]
  },
  {
   "cell_type": "markdown",
   "metadata": {},
   "source": [
    "Проведя эксперимент множество раз, проверим экспериментально вероятность того, что нам понадобится 6 экспериментов до первого успеха (включительно). Для этого начнём проводить серии из экспериментов Бернулли и фиксировать те и только те случаи, когда первый успех выпал после пяти неудач. Это будет $m_A$. Затем разделим это число на количество проведённых экспериментов $n$, и таким образом получим искомое значение вероятности."
   ]
  },
  {
   "cell_type": "code",
   "execution_count": 2,
   "metadata": {},
   "outputs": [
    {
     "name": "stdout",
     "output_type": "stream",
     "text": [
      "0.050258\n",
      "Теоретическое значение = 0.0504\n"
     ]
    }
   ],
   "source": [
    "NUM_EXPERIMENTS = 1000000\n",
    "\n",
    "# six_trials_counter будет инкрементироваться тогда и только тогда, когда мы будем встречать \n",
    "# серию опытов Бернулли из 5 неудач подряд и 1 успеха за ними:\n",
    "six_trials_counter = 0\n",
    "for _ in range(NUM_EXPERIMENTS):\n",
    "    # Проведём серию из 6 бросков:\n",
    "    series = [bernoulli_trial(P) for _ in range(6)]\n",
    "    # Посчитаем только те случаи, где выпал 1 успех, и он - последний в серии:\n",
    "    if sum(series) == 1 and series[-1] == True:\n",
    "        six_trials_counter += 1\n",
    "    \n",
    "# Рассчитаем вероятность:\n",
    "print(six_trials_counter / NUM_EXPERIMENTS)\n",
    "print('Теоретическое значение = 0.0504')"
   ]
  }
 ],
 "metadata": {
  "kernelspec": {
   "display_name": "Python 3",
   "language": "python",
   "name": "python3"
  },
  "language_info": {
   "codemirror_mode": {
    "name": "ipython",
    "version": 3
   },
   "file_extension": ".py",
   "mimetype": "text/x-python",
   "name": "python",
   "nbconvert_exporter": "python",
   "pygments_lexer": "ipython3",
   "version": "3.6.3"
  }
 },
 "nbformat": 4,
 "nbformat_minor": 2
}
